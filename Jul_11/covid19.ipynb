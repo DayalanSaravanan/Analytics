{
 "cells": [
  {
   "cell_type": "code",
   "execution_count": 13,
   "metadata": {},
   "outputs": [],
   "source": [
    "import numpy as np\n",
    "import pandas as pd\n",
    "import pandas_alive"
   ]
  },
  {
   "cell_type": "code",
   "execution_count": 14,
   "metadata": {},
   "outputs": [],
   "source": [
    "df = pd.read_csv('time_series_covid19_confirmed_global.csv')\n",
    "df = df.drop(['Province/State', 'Lat', 'Long'], axis=1)\n",
    "df = df.groupby('Country/Region').sum()\n",
    "df = df.T"
   ]
  },
  {
   "cell_type": "code",
   "execution_count": 15,
   "metadata": {},
   "outputs": [],
   "source": [
    "#df = df.sum(axis=0)\n",
    "#df = df.sort_values(ascending=False).head(20)\n",
    "df = df[['US', 'Brazil', 'Russia', 'Spain', 'Italy', 'United Kingdom', 'India', 'Germany', 'France', 'Iran', 'Peru', 'Turkey', 'Chile', 'China', 'Mexico', 'Pakistan', 'Saudi Arabia', 'Canada', 'South Africa', 'Bangladesh']]"
   ]
  },
  {
   "cell_type": "code",
   "execution_count": null,
   "metadata": {
    "scrolled": true
   },
   "outputs": [
    {
     "name": "stdout",
     "output_type": "stream",
     "text": [
      "Generating BarChartRace, plotting ['US', 'Brazil', 'Russia', 'Spain', 'Italy', 'United Kingdom', 'India', 'Germany', 'France', 'Iran', 'Peru', 'Turkey', 'Chile', 'China', 'Mexico', 'Pakistan', 'Saudi Arabia', 'Canada', 'South Africa', 'Bangladesh']\n"
     ]
    }
   ],
   "source": [
    "df.to_csv('/home/saran/Analytics/Jul_11/covidata.csv', sep=',')\n",
    "df = pd.read_csv('covidata.csv', index_col=0, parse_dates=[0], thousands=',')\n",
    "df.plot_animated(filename='covid19.gif', period_fmt=\"%D\", title='Covid-19 confirmed cases')"
   ]
  },
  {
   "cell_type": "code",
   "execution_count": null,
   "metadata": {},
   "outputs": [],
   "source": [
    "def show_gif(fname):\n",
    "    import base64\n",
    "    from IPython import display\n",
    "    with open(fname, 'rb') as fd:\n",
    "        b64 = base64.b64encode(fd.read()).decode('ascii')\n",
    "        \n",
    "        return display.HTML(f'<img src=\"data:image/gif;base64,{b64}\" />')"
   ]
  }
 ],
 "metadata": {
  "kernelspec": {
   "display_name": "Python 3",
   "language": "python",
   "name": "python3"
  },
  "language_info": {
   "codemirror_mode": {
    "name": "ipython",
    "version": 3
   },
   "file_extension": ".py",
   "mimetype": "text/x-python",
   "name": "python",
   "nbconvert_exporter": "python",
   "pygments_lexer": "ipython3",
   "version": "3.7.3"
  }
 },
 "nbformat": 4,
 "nbformat_minor": 4
}
