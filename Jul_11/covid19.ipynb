{
 "cells": [
  {
   "cell_type": "code",
   "execution_count": 2,
   "metadata": {},
   "outputs": [],
   "source": [
    "import numpy as np\n",
    "import pandas as pd\n",
    "import pygal as pyg"
   ]
  },
  {
   "cell_type": "code",
   "execution_count": 12,
   "metadata": {},
   "outputs": [],
   "source": [
    "df = pd.read_csv(\"time_series_covid19_confirmed_global.csv\")\n",
    "df = df.drop(['Province/State', 'Lat', 'Long'], axis=1)"
   ]
  },
  {
   "cell_type": "code",
   "execution_count": 29,
   "metadata": {},
   "outputs": [],
   "source": [
    "#df = df.groupby('Country/Region')['1/22/20'].sum()"
   ]
  },
  {
   "cell_type": "code",
   "execution_count": 24,
   "metadata": {
    "scrolled": true
   },
   "outputs": [
    {
     "data": {
      "text/plain": [
       "Country/Region\n",
       "Afghanistan               0\n",
       "Albania                   0\n",
       "Algeria                   0\n",
       "Andorra                   0\n",
       "Angola                    0\n",
       "Antigua and Barbuda       0\n",
       "Argentina                 0\n",
       "Armenia                   0\n",
       "Australia                 0\n",
       "Austria                   0\n",
       "Azerbaijan                0\n",
       "Bahamas                   0\n",
       "Bahrain                   0\n",
       "Bangladesh                0\n",
       "Barbados                  0\n",
       "Belarus                   0\n",
       "Belgium                   0\n",
       "Belize                    0\n",
       "Benin                     0\n",
       "Bhutan                    0\n",
       "Bolivia                   0\n",
       "Bosnia and Herzegovina    0\n",
       "Botswana                  0\n",
       "Brazil                    0\n",
       "Brunei                    0\n",
       "Bulgaria                  0\n",
       "Burkina Faso              0\n",
       "Burma                     0\n",
       "Burundi                   0\n",
       "Cabo Verde                0\n",
       "Name: 1/22/20, dtype: int64"
      ]
     },
     "execution_count": 24,
     "metadata": {},
     "output_type": "execute_result"
    }
   ],
   "source": [
    "#df.head(30)"
   ]
  },
  {
   "cell_type": "code",
   "execution_count": 28,
   "metadata": {},
   "outputs": [
    {
     "data": {
      "text/plain": [
       "(188,)"
      ]
     },
     "execution_count": 28,
     "metadata": {},
     "output_type": "execute_result"
    }
   ],
   "source": []
  },
  {
   "cell_type": "code",
   "execution_count": null,
   "metadata": {},
   "outputs": [],
   "source": []
  },
  {
   "cell_type": "code",
   "execution_count": null,
   "metadata": {},
   "outputs": [],
   "source": []
  }
 ],
 "metadata": {
  "kernelspec": {
   "display_name": "Python 3",
   "language": "python",
   "name": "python3"
  },
  "language_info": {
   "codemirror_mode": {
    "name": "ipython",
    "version": 3
   },
   "file_extension": ".py",
   "mimetype": "text/x-python",
   "name": "python",
   "nbconvert_exporter": "python",
   "pygments_lexer": "ipython3",
   "version": "3.7.3"
  }
 },
 "nbformat": 4,
 "nbformat_minor": 4
}
