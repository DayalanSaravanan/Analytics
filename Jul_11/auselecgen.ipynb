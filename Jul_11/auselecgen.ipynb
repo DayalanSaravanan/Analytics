{
 "cells": [
  {
   "cell_type": "code",
   "execution_count": 1,
   "metadata": {},
   "outputs": [],
   "source": [
    "import numpy as np\n",
    "import pandas as pd\n",
    "import pandas_alive"
   ]
  },
  {
   "cell_type": "code",
   "execution_count": null,
   "metadata": {},
   "outputs": [
    {
     "name": "stdout",
     "output_type": "stream",
     "text": [
      "Generating BarChartRace, plotting ['  Black coal', '  Brown coal', '  Natural gas', '  Oil products', '  Other a', '  Biomass', '  Wind', '  Hydro', 'Large-scale solar PV', '  Small-scale solar PV', '  Geothermal']\n"
     ]
    }
   ],
   "source": [
    "df = pd.read_csv(\"Aus_Elec_Gen_1980_2018.csv\", index_col=0, parse_dates=[0], thousands=',')\n",
    "df.plot_animated(filename='auselgen8018.gif', period_fmt=\"%Y\", title=\"Australian Electricity Generation 1980-2018\")"
   ]
  }
 ],
 "metadata": {
  "kernelspec": {
   "display_name": "Python 3",
   "language": "python",
   "name": "python3"
  },
  "language_info": {
   "codemirror_mode": {
    "name": "ipython",
    "version": 3
   },
   "file_extension": ".py",
   "mimetype": "text/x-python",
   "name": "python",
   "nbconvert_exporter": "python",
   "pygments_lexer": "ipython3",
   "version": "3.7.3"
  }
 },
 "nbformat": 4,
 "nbformat_minor": 4
}
