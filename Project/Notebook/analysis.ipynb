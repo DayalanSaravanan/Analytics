{
 "cells": [
  {
   "cell_type": "code",
   "execution_count": 1,
   "metadata": {},
   "outputs": [],
   "source": [
    "import numpy as np\n",
    "import scipy.linalg as la\n",
    "import pandas as pd\n",
    "import matplotlib.pyplot as plt\n",
    "plt.style.use('seaborn-darkgrid')"
   ]
  },
  {
   "cell_type": "code",
   "execution_count": 2,
   "metadata": {},
   "outputs": [],
   "source": [
    "data = pd.read_csv('Codes/closeprice.csv', index_col=0)\n",
    "data.index.name = None"
   ]
  },
  {
   "cell_type": "code",
   "execution_count": 3,
   "metadata": {},
   "outputs": [
    {
     "data": {
      "text/plain": [
       "(2481, 63)"
      ]
     },
     "execution_count": 3,
     "metadata": {},
     "output_type": "execute_result"
    }
   ],
   "source": [
    "data.shape"
   ]
  },
  {
   "cell_type": "code",
   "execution_count": 4,
   "metadata": {},
   "outputs": [],
   "source": [
    "# remove columns with number of NaN greater than 0.3%\n",
    "data = data.loc[:, data.isnull().mean() < .003]"
   ]
  },
  {
   "cell_type": "code",
   "execution_count": 5,
   "metadata": {},
   "outputs": [
    {
     "data": {
      "text/plain": [
       "(2481, 52)"
      ]
     },
     "execution_count": 5,
     "metadata": {},
     "output_type": "execute_result"
    }
   ],
   "source": [
    "data.shape"
   ]
  },
  {
   "cell_type": "code",
   "execution_count": 6,
   "metadata": {},
   "outputs": [],
   "source": [
    "# price change\n",
    "price = pd.DataFrame()\n",
    "dt = 1\n",
    "for name in data.columns:\n",
    "    price[name] = [np.log(data[name][t+dt]) - np.log(data[name][t]) for t in range(len(data)-dt)]"
   ]
  },
  {
   "cell_type": "code",
   "execution_count": 7,
   "metadata": {},
   "outputs": [
    {
     "data": {
      "text/plain": [
       "(2480, 52)"
      ]
     },
     "execution_count": 7,
     "metadata": {},
     "output_type": "execute_result"
    }
   ],
   "source": [
    "price.shape"
   ]
  },
  {
   "cell_type": "code",
   "execution_count": 8,
   "metadata": {},
   "outputs": [
    {
     "data": {
      "text/html": [
       "<div>\n",
       "<style scoped>\n",
       "    .dataframe tbody tr th:only-of-type {\n",
       "        vertical-align: middle;\n",
       "    }\n",
       "\n",
       "    .dataframe tbody tr th {\n",
       "        vertical-align: top;\n",
       "    }\n",
       "\n",
       "    .dataframe thead th {\n",
       "        text-align: right;\n",
       "    }\n",
       "</style>\n",
       "<table border=\"1\" class=\"dataframe\">\n",
       "  <thead>\n",
       "    <tr style=\"text-align: right;\">\n",
       "      <th></th>\n",
       "      <th>RELIANCE</th>\n",
       "      <th>TCS</th>\n",
       "      <th>HINDUNILVR</th>\n",
       "      <th>HDFCBANK</th>\n",
       "      <th>HDFC</th>\n",
       "      <th>INFY</th>\n",
       "      <th>KOTAKBANK</th>\n",
       "      <th>BHARTIARTL</th>\n",
       "      <th>ITC</th>\n",
       "      <th>ICICIBANK</th>\n",
       "      <th>...</th>\n",
       "      <th>M&amp;M</th>\n",
       "      <th>JSWSTEEL</th>\n",
       "      <th>MCDOWELL-N</th>\n",
       "      <th>GAIL</th>\n",
       "      <th>CIPLA</th>\n",
       "      <th>COLPAL</th>\n",
       "      <th>DLF</th>\n",
       "      <th>TORNTPHARM</th>\n",
       "      <th>PGHH</th>\n",
       "      <th>BIOCON</th>\n",
       "    </tr>\n",
       "  </thead>\n",
       "  <tbody>\n",
       "    <tr>\n",
       "      <th>count</th>\n",
       "      <td>2480.000000</td>\n",
       "      <td>2480.000000</td>\n",
       "      <td>2480.000000</td>\n",
       "      <td>2480.000000</td>\n",
       "      <td>2480.000000</td>\n",
       "      <td>2480.000000</td>\n",
       "      <td>2480.000000</td>\n",
       "      <td>2480.000000</td>\n",
       "      <td>2480.000000</td>\n",
       "      <td>2480.000000</td>\n",
       "      <td>...</td>\n",
       "      <td>2480.000000</td>\n",
       "      <td>2480.000000</td>\n",
       "      <td>2480.000000</td>\n",
       "      <td>2480.000000</td>\n",
       "      <td>2480.000000</td>\n",
       "      <td>2480.000000</td>\n",
       "      <td>2480.000000</td>\n",
       "      <td>2480.000000</td>\n",
       "      <td>2480.000000</td>\n",
       "      <td>2480.000000</td>\n",
       "    </tr>\n",
       "    <tr>\n",
       "      <th>mean</th>\n",
       "      <td>0.000138</td>\n",
       "      <td>0.000426</td>\n",
       "      <td>0.000800</td>\n",
       "      <td>-0.000118</td>\n",
       "      <td>-0.000042</td>\n",
       "      <td>-0.000514</td>\n",
       "      <td>0.000289</td>\n",
       "      <td>0.000136</td>\n",
       "      <td>-0.000026</td>\n",
       "      <td>-0.000198</td>\n",
       "      <td>...</td>\n",
       "      <td>-0.000304</td>\n",
       "      <td>-0.000537</td>\n",
       "      <td>-0.000318</td>\n",
       "      <td>-0.000497</td>\n",
       "      <td>0.000140</td>\n",
       "      <td>0.000305</td>\n",
       "      <td>-0.000184</td>\n",
       "      <td>0.000627</td>\n",
       "      <td>0.000764</td>\n",
       "      <td>0.000020</td>\n",
       "    </tr>\n",
       "    <tr>\n",
       "      <th>std</th>\n",
       "      <td>0.021562</td>\n",
       "      <td>0.021075</td>\n",
       "      <td>0.014404</td>\n",
       "      <td>0.037458</td>\n",
       "      <td>0.035647</td>\n",
       "      <td>0.029436</td>\n",
       "      <td>0.025395</td>\n",
       "      <td>0.019985</td>\n",
       "      <td>0.021960</td>\n",
       "      <td>0.037860</td>\n",
       "      <td>...</td>\n",
       "      <td>0.026566</td>\n",
       "      <td>0.051987</td>\n",
       "      <td>0.040934</td>\n",
       "      <td>0.024445</td>\n",
       "      <td>0.015558</td>\n",
       "      <td>0.019956</td>\n",
       "      <td>0.029772</td>\n",
       "      <td>0.022206</td>\n",
       "      <td>0.014282</td>\n",
       "      <td>0.033106</td>\n",
       "    </tr>\n",
       "    <tr>\n",
       "      <th>min</th>\n",
       "      <td>-0.698754</td>\n",
       "      <td>-0.702295</td>\n",
       "      <td>-0.055373</td>\n",
       "      <td>-1.605457</td>\n",
       "      <td>-1.577693</td>\n",
       "      <td>-0.715617</td>\n",
       "      <td>-0.701176</td>\n",
       "      <td>-0.098894</td>\n",
       "      <td>-0.706017</td>\n",
       "      <td>-1.600062</td>\n",
       "      <td>...</td>\n",
       "      <td>-0.731055</td>\n",
       "      <td>-2.311165</td>\n",
       "      <td>-1.629624</td>\n",
       "      <td>-0.719645</td>\n",
       "      <td>-0.092396</td>\n",
       "      <td>-0.717079</td>\n",
       "      <td>-0.336268</td>\n",
       "      <td>-0.682535</td>\n",
       "      <td>-0.057333</td>\n",
       "      <td>-1.084348</td>\n",
       "    </tr>\n",
       "    <tr>\n",
       "      <th>25%</th>\n",
       "      <td>-0.009819</td>\n",
       "      <td>-0.008012</td>\n",
       "      <td>-0.007532</td>\n",
       "      <td>-0.006561</td>\n",
       "      <td>-0.009204</td>\n",
       "      <td>-0.007488</td>\n",
       "      <td>-0.008614</td>\n",
       "      <td>-0.011457</td>\n",
       "      <td>-0.007838</td>\n",
       "      <td>-0.011186</td>\n",
       "      <td>...</td>\n",
       "      <td>-0.010218</td>\n",
       "      <td>-0.012817</td>\n",
       "      <td>-0.013210</td>\n",
       "      <td>-0.009943</td>\n",
       "      <td>-0.008581</td>\n",
       "      <td>-0.007456</td>\n",
       "      <td>-0.015938</td>\n",
       "      <td>-0.009248</td>\n",
       "      <td>-0.006939</td>\n",
       "      <td>-0.010035</td>\n",
       "    </tr>\n",
       "    <tr>\n",
       "      <th>50%</th>\n",
       "      <td>0.000050</td>\n",
       "      <td>0.000400</td>\n",
       "      <td>0.000179</td>\n",
       "      <td>0.000420</td>\n",
       "      <td>0.000217</td>\n",
       "      <td>0.000507</td>\n",
       "      <td>0.000818</td>\n",
       "      <td>-0.000424</td>\n",
       "      <td>0.000413</td>\n",
       "      <td>-0.000423</td>\n",
       "      <td>...</td>\n",
       "      <td>0.000420</td>\n",
       "      <td>0.000295</td>\n",
       "      <td>-0.000254</td>\n",
       "      <td>-0.000134</td>\n",
       "      <td>-0.000517</td>\n",
       "      <td>-0.000110</td>\n",
       "      <td>0.000692</td>\n",
       "      <td>0.000342</td>\n",
       "      <td>-0.000070</td>\n",
       "      <td>0.000000</td>\n",
       "    </tr>\n",
       "    <tr>\n",
       "      <th>75%</th>\n",
       "      <td>0.010288</td>\n",
       "      <td>0.009287</td>\n",
       "      <td>0.008519</td>\n",
       "      <td>0.007774</td>\n",
       "      <td>0.010443</td>\n",
       "      <td>0.009367</td>\n",
       "      <td>0.009963</td>\n",
       "      <td>0.010832</td>\n",
       "      <td>0.008859</td>\n",
       "      <td>0.011470</td>\n",
       "      <td>...</td>\n",
       "      <td>0.010442</td>\n",
       "      <td>0.013963</td>\n",
       "      <td>0.012455</td>\n",
       "      <td>0.009992</td>\n",
       "      <td>0.008533</td>\n",
       "      <td>0.007442</td>\n",
       "      <td>0.016726</td>\n",
       "      <td>0.010006</td>\n",
       "      <td>0.006946</td>\n",
       "      <td>0.010505</td>\n",
       "    </tr>\n",
       "    <tr>\n",
       "      <th>max</th>\n",
       "      <td>0.104027</td>\n",
       "      <td>0.115206</td>\n",
       "      <td>0.160264</td>\n",
       "      <td>0.085724</td>\n",
       "      <td>0.079781</td>\n",
       "      <td>0.155165</td>\n",
       "      <td>0.084269</td>\n",
       "      <td>0.099625</td>\n",
       "      <td>0.095725</td>\n",
       "      <td>0.137042</td>\n",
       "      <td>...</td>\n",
       "      <td>0.091223</td>\n",
       "      <td>0.114350</td>\n",
       "      <td>0.298074</td>\n",
       "      <td>0.094910</td>\n",
       "      <td>0.073474</td>\n",
       "      <td>0.084832</td>\n",
       "      <td>0.168736</td>\n",
       "      <td>0.095101</td>\n",
       "      <td>0.139162</td>\n",
       "      <td>0.144727</td>\n",
       "    </tr>\n",
       "  </tbody>\n",
       "</table>\n",
       "<p>8 rows × 52 columns</p>\n",
       "</div>"
      ],
      "text/plain": [
       "          RELIANCE          TCS   HINDUNILVR     HDFCBANK         HDFC  \\\n",
       "count  2480.000000  2480.000000  2480.000000  2480.000000  2480.000000   \n",
       "mean      0.000138     0.000426     0.000800    -0.000118    -0.000042   \n",
       "std       0.021562     0.021075     0.014404     0.037458     0.035647   \n",
       "min      -0.698754    -0.702295    -0.055373    -1.605457    -1.577693   \n",
       "25%      -0.009819    -0.008012    -0.007532    -0.006561    -0.009204   \n",
       "50%       0.000050     0.000400     0.000179     0.000420     0.000217   \n",
       "75%       0.010288     0.009287     0.008519     0.007774     0.010443   \n",
       "max       0.104027     0.115206     0.160264     0.085724     0.079781   \n",
       "\n",
       "              INFY    KOTAKBANK   BHARTIARTL          ITC    ICICIBANK  ...  \\\n",
       "count  2480.000000  2480.000000  2480.000000  2480.000000  2480.000000  ...   \n",
       "mean     -0.000514     0.000289     0.000136    -0.000026    -0.000198  ...   \n",
       "std       0.029436     0.025395     0.019985     0.021960     0.037860  ...   \n",
       "min      -0.715617    -0.701176    -0.098894    -0.706017    -1.600062  ...   \n",
       "25%      -0.007488    -0.008614    -0.011457    -0.007838    -0.011186  ...   \n",
       "50%       0.000507     0.000818    -0.000424     0.000413    -0.000423  ...   \n",
       "75%       0.009367     0.009963     0.010832     0.008859     0.011470  ...   \n",
       "max       0.155165     0.084269     0.099625     0.095725     0.137042  ...   \n",
       "\n",
       "               M&M     JSWSTEEL   MCDOWELL-N         GAIL        CIPLA  \\\n",
       "count  2480.000000  2480.000000  2480.000000  2480.000000  2480.000000   \n",
       "mean     -0.000304    -0.000537    -0.000318    -0.000497     0.000140   \n",
       "std       0.026566     0.051987     0.040934     0.024445     0.015558   \n",
       "min      -0.731055    -2.311165    -1.629624    -0.719645    -0.092396   \n",
       "25%      -0.010218    -0.012817    -0.013210    -0.009943    -0.008581   \n",
       "50%       0.000420     0.000295    -0.000254    -0.000134    -0.000517   \n",
       "75%       0.010442     0.013963     0.012455     0.009992     0.008533   \n",
       "max       0.091223     0.114350     0.298074     0.094910     0.073474   \n",
       "\n",
       "            COLPAL          DLF   TORNTPHARM         PGHH       BIOCON  \n",
       "count  2480.000000  2480.000000  2480.000000  2480.000000  2480.000000  \n",
       "mean      0.000305    -0.000184     0.000627     0.000764     0.000020  \n",
       "std       0.019956     0.029772     0.022206     0.014282     0.033106  \n",
       "min      -0.717079    -0.336268    -0.682535    -0.057333    -1.084348  \n",
       "25%      -0.007456    -0.015938    -0.009248    -0.006939    -0.010035  \n",
       "50%      -0.000110     0.000692     0.000342    -0.000070     0.000000  \n",
       "75%       0.007442     0.016726     0.010006     0.006946     0.010505  \n",
       "max       0.084832     0.168736     0.095101     0.139162     0.144727  \n",
       "\n",
       "[8 rows x 52 columns]"
      ]
     },
     "execution_count": 8,
     "metadata": {},
     "output_type": "execute_result"
    }
   ],
   "source": [
    "price.describe()"
   ]
  },
  {
   "cell_type": "code",
   "execution_count": 9,
   "metadata": {},
   "outputs": [],
   "source": [
    "# normalized return\n",
    "nprice = pd.DataFrame()\n",
    "for name in price.columns:\n",
    "    nprice[name] = [(price[name][t] - np.mean(price[name]))/np.std(price[name], ddof=1) for t in range(len(price))]"
   ]
  },
  {
   "cell_type": "code",
   "execution_count": 10,
   "metadata": {},
   "outputs": [
    {
     "data": {
      "text/plain": [
       "(2480, 52)"
      ]
     },
     "execution_count": 10,
     "metadata": {},
     "output_type": "execute_result"
    }
   ],
   "source": [
    "nprice.shape"
   ]
  },
  {
   "cell_type": "code",
   "execution_count": 11,
   "metadata": {},
   "outputs": [
    {
     "data": {
      "text/html": [
       "<div>\n",
       "<style scoped>\n",
       "    .dataframe tbody tr th:only-of-type {\n",
       "        vertical-align: middle;\n",
       "    }\n",
       "\n",
       "    .dataframe tbody tr th {\n",
       "        vertical-align: top;\n",
       "    }\n",
       "\n",
       "    .dataframe thead th {\n",
       "        text-align: right;\n",
       "    }\n",
       "</style>\n",
       "<table border=\"1\" class=\"dataframe\">\n",
       "  <thead>\n",
       "    <tr style=\"text-align: right;\">\n",
       "      <th></th>\n",
       "      <th>RELIANCE</th>\n",
       "      <th>TCS</th>\n",
       "      <th>HINDUNILVR</th>\n",
       "      <th>HDFCBANK</th>\n",
       "      <th>HDFC</th>\n",
       "      <th>INFY</th>\n",
       "      <th>KOTAKBANK</th>\n",
       "      <th>BHARTIARTL</th>\n",
       "      <th>ITC</th>\n",
       "      <th>ICICIBANK</th>\n",
       "      <th>...</th>\n",
       "      <th>M&amp;M</th>\n",
       "      <th>JSWSTEEL</th>\n",
       "      <th>MCDOWELL-N</th>\n",
       "      <th>GAIL</th>\n",
       "      <th>CIPLA</th>\n",
       "      <th>COLPAL</th>\n",
       "      <th>DLF</th>\n",
       "      <th>TORNTPHARM</th>\n",
       "      <th>PGHH</th>\n",
       "      <th>BIOCON</th>\n",
       "    </tr>\n",
       "  </thead>\n",
       "  <tbody>\n",
       "    <tr>\n",
       "      <th>count</th>\n",
       "      <td>2.480000e+03</td>\n",
       "      <td>2.480000e+03</td>\n",
       "      <td>2.480000e+03</td>\n",
       "      <td>2.480000e+03</td>\n",
       "      <td>2.480000e+03</td>\n",
       "      <td>2.480000e+03</td>\n",
       "      <td>2.480000e+03</td>\n",
       "      <td>2.480000e+03</td>\n",
       "      <td>2.480000e+03</td>\n",
       "      <td>2.480000e+03</td>\n",
       "      <td>...</td>\n",
       "      <td>2.480000e+03</td>\n",
       "      <td>2.480000e+03</td>\n",
       "      <td>2.480000e+03</td>\n",
       "      <td>2.480000e+03</td>\n",
       "      <td>2.480000e+03</td>\n",
       "      <td>2.480000e+03</td>\n",
       "      <td>2.480000e+03</td>\n",
       "      <td>2.480000e+03</td>\n",
       "      <td>2.480000e+03</td>\n",
       "      <td>2.480000e+03</td>\n",
       "    </tr>\n",
       "    <tr>\n",
       "      <th>mean</th>\n",
       "      <td>-1.719055e-17</td>\n",
       "      <td>5.730183e-18</td>\n",
       "      <td>-3.223228e-17</td>\n",
       "      <td>6.446456e-18</td>\n",
       "      <td>1.432546e-17</td>\n",
       "      <td>1.217664e-17</td>\n",
       "      <td>-3.581365e-18</td>\n",
       "      <td>2.399514e-17</td>\n",
       "      <td>2.865092e-18</td>\n",
       "      <td>2.865092e-18</td>\n",
       "      <td>...</td>\n",
       "      <td>5.730183e-18</td>\n",
       "      <td>7.162729e-19</td>\n",
       "      <td>-4.297638e-18</td>\n",
       "      <td>-2.865092e-18</td>\n",
       "      <td>5.730183e-18</td>\n",
       "      <td>1.289291e-17</td>\n",
       "      <td>5.730183e-18</td>\n",
       "      <td>7.162729e-19</td>\n",
       "      <td>2.148819e-17</td>\n",
       "      <td>-2.865092e-18</td>\n",
       "    </tr>\n",
       "    <tr>\n",
       "      <th>std</th>\n",
       "      <td>1.000000e+00</td>\n",
       "      <td>1.000000e+00</td>\n",
       "      <td>1.000000e+00</td>\n",
       "      <td>1.000000e+00</td>\n",
       "      <td>1.000000e+00</td>\n",
       "      <td>1.000000e+00</td>\n",
       "      <td>1.000000e+00</td>\n",
       "      <td>1.000000e+00</td>\n",
       "      <td>1.000000e+00</td>\n",
       "      <td>1.000000e+00</td>\n",
       "      <td>...</td>\n",
       "      <td>1.000000e+00</td>\n",
       "      <td>1.000000e+00</td>\n",
       "      <td>1.000000e+00</td>\n",
       "      <td>1.000000e+00</td>\n",
       "      <td>1.000000e+00</td>\n",
       "      <td>1.000000e+00</td>\n",
       "      <td>1.000000e+00</td>\n",
       "      <td>1.000000e+00</td>\n",
       "      <td>1.000000e+00</td>\n",
       "      <td>1.000000e+00</td>\n",
       "    </tr>\n",
       "    <tr>\n",
       "      <th>min</th>\n",
       "      <td>-3.241243e+01</td>\n",
       "      <td>-3.334404e+01</td>\n",
       "      <td>-3.899691e+00</td>\n",
       "      <td>-4.285668e+01</td>\n",
       "      <td>-4.425768e+01</td>\n",
       "      <td>-2.429311e+01</td>\n",
       "      <td>-2.762203e+01</td>\n",
       "      <td>-4.955287e+00</td>\n",
       "      <td>-3.214911e+01</td>\n",
       "      <td>-4.225712e+01</td>\n",
       "      <td>...</td>\n",
       "      <td>-2.750717e+01</td>\n",
       "      <td>-4.444611e+01</td>\n",
       "      <td>-3.980328e+01</td>\n",
       "      <td>-2.941915e+01</td>\n",
       "      <td>-5.948028e+00</td>\n",
       "      <td>-3.594844e+01</td>\n",
       "      <td>-1.128867e+01</td>\n",
       "      <td>-3.076423e+01</td>\n",
       "      <td>-4.067972e+00</td>\n",
       "      <td>-3.275481e+01</td>\n",
       "    </tr>\n",
       "    <tr>\n",
       "      <th>25%</th>\n",
       "      <td>-4.617636e-01</td>\n",
       "      <td>-4.003681e-01</td>\n",
       "      <td>-5.784214e-01</td>\n",
       "      <td>-1.720032e-01</td>\n",
       "      <td>-2.570269e-01</td>\n",
       "      <td>-2.369387e-01</td>\n",
       "      <td>-3.505874e-01</td>\n",
       "      <td>-5.801034e-01</td>\n",
       "      <td>-3.557490e-01</td>\n",
       "      <td>-2.902309e-01</td>\n",
       "      <td>...</td>\n",
       "      <td>-3.731815e-01</td>\n",
       "      <td>-2.362189e-01</td>\n",
       "      <td>-3.149612e-01</td>\n",
       "      <td>-3.864100e-01</td>\n",
       "      <td>-5.605771e-01</td>\n",
       "      <td>-3.889082e-01</td>\n",
       "      <td>-5.291515e-01</td>\n",
       "      <td>-4.446788e-01</td>\n",
       "      <td>-5.393627e-01</td>\n",
       "      <td>-3.037230e-01</td>\n",
       "    </tr>\n",
       "    <tr>\n",
       "      <th>50%</th>\n",
       "      <td>-4.055057e-03</td>\n",
       "      <td>-1.230152e-03</td>\n",
       "      <td>-4.306846e-02</td>\n",
       "      <td>1.437933e-02</td>\n",
       "      <td>7.240876e-03</td>\n",
       "      <td>3.466480e-02</td>\n",
       "      <td>2.083688e-02</td>\n",
       "      <td>-2.801880e-02</td>\n",
       "      <td>1.999777e-02</td>\n",
       "      <td>-5.966520e-03</td>\n",
       "      <td>...</td>\n",
       "      <td>2.725647e-02</td>\n",
       "      <td>1.599970e-02</td>\n",
       "      <td>1.562848e-03</td>\n",
       "      <td>1.482672e-02</td>\n",
       "      <td>-4.224574e-02</td>\n",
       "      <td>-2.077953e-02</td>\n",
       "      <td>2.943893e-02</td>\n",
       "      <td>-1.281485e-02</td>\n",
       "      <td>-5.844106e-02</td>\n",
       "      <td>-6.101362e-04</td>\n",
       "    </tr>\n",
       "    <tr>\n",
       "      <th>75%</th>\n",
       "      <td>4.707117e-01</td>\n",
       "      <td>4.204587e-01</td>\n",
       "      <td>5.358855e-01</td>\n",
       "      <td>2.106949e-01</td>\n",
       "      <td>2.941178e-01</td>\n",
       "      <td>3.356434e-01</td>\n",
       "      <td>3.809624e-01</td>\n",
       "      <td>5.351964e-01</td>\n",
       "      <td>4.045921e-01</td>\n",
       "      <td>3.081639e-01</td>\n",
       "      <td>...</td>\n",
       "      <td>4.044995e-01</td>\n",
       "      <td>2.789198e-01</td>\n",
       "      <td>3.120327e-01</td>\n",
       "      <td>4.290755e-01</td>\n",
       "      <td>5.394728e-01</td>\n",
       "      <td>3.576284e-01</td>\n",
       "      <td>5.679899e-01</td>\n",
       "      <td>4.223645e-01</td>\n",
       "      <td>4.328334e-01</td>\n",
       "      <td>3.167189e-01</td>\n",
       "    </tr>\n",
       "    <tr>\n",
       "      <th>max</th>\n",
       "      <td>4.818058e+00</td>\n",
       "      <td>5.446310e+00</td>\n",
       "      <td>1.107053e+01</td>\n",
       "      <td>2.291672e+00</td>\n",
       "      <td>2.239252e+00</td>\n",
       "      <td>5.288632e+00</td>\n",
       "      <td>3.306928e+00</td>\n",
       "      <td>4.978250e+00</td>\n",
       "      <td>4.360284e+00</td>\n",
       "      <td>3.624911e+00</td>\n",
       "      <td>...</td>\n",
       "      <td>3.445290e+00</td>\n",
       "      <td>2.209901e+00</td>\n",
       "      <td>7.289592e+00</td>\n",
       "      <td>3.902922e+00</td>\n",
       "      <td>4.713694e+00</td>\n",
       "      <td>4.235683e+00</td>\n",
       "      <td>5.673832e+00</td>\n",
       "      <td>4.254354e+00</td>\n",
       "      <td>9.690503e+00</td>\n",
       "      <td>4.371055e+00</td>\n",
       "    </tr>\n",
       "  </tbody>\n",
       "</table>\n",
       "<p>8 rows × 52 columns</p>\n",
       "</div>"
      ],
      "text/plain": [
       "           RELIANCE           TCS    HINDUNILVR      HDFCBANK          HDFC  \\\n",
       "count  2.480000e+03  2.480000e+03  2.480000e+03  2.480000e+03  2.480000e+03   \n",
       "mean  -1.719055e-17  5.730183e-18 -3.223228e-17  6.446456e-18  1.432546e-17   \n",
       "std    1.000000e+00  1.000000e+00  1.000000e+00  1.000000e+00  1.000000e+00   \n",
       "min   -3.241243e+01 -3.334404e+01 -3.899691e+00 -4.285668e+01 -4.425768e+01   \n",
       "25%   -4.617636e-01 -4.003681e-01 -5.784214e-01 -1.720032e-01 -2.570269e-01   \n",
       "50%   -4.055057e-03 -1.230152e-03 -4.306846e-02  1.437933e-02  7.240876e-03   \n",
       "75%    4.707117e-01  4.204587e-01  5.358855e-01  2.106949e-01  2.941178e-01   \n",
       "max    4.818058e+00  5.446310e+00  1.107053e+01  2.291672e+00  2.239252e+00   \n",
       "\n",
       "               INFY     KOTAKBANK    BHARTIARTL           ITC     ICICIBANK  \\\n",
       "count  2.480000e+03  2.480000e+03  2.480000e+03  2.480000e+03  2.480000e+03   \n",
       "mean   1.217664e-17 -3.581365e-18  2.399514e-17  2.865092e-18  2.865092e-18   \n",
       "std    1.000000e+00  1.000000e+00  1.000000e+00  1.000000e+00  1.000000e+00   \n",
       "min   -2.429311e+01 -2.762203e+01 -4.955287e+00 -3.214911e+01 -4.225712e+01   \n",
       "25%   -2.369387e-01 -3.505874e-01 -5.801034e-01 -3.557490e-01 -2.902309e-01   \n",
       "50%    3.466480e-02  2.083688e-02 -2.801880e-02  1.999777e-02 -5.966520e-03   \n",
       "75%    3.356434e-01  3.809624e-01  5.351964e-01  4.045921e-01  3.081639e-01   \n",
       "max    5.288632e+00  3.306928e+00  4.978250e+00  4.360284e+00  3.624911e+00   \n",
       "\n",
       "       ...           M&M      JSWSTEEL    MCDOWELL-N          GAIL  \\\n",
       "count  ...  2.480000e+03  2.480000e+03  2.480000e+03  2.480000e+03   \n",
       "mean   ...  5.730183e-18  7.162729e-19 -4.297638e-18 -2.865092e-18   \n",
       "std    ...  1.000000e+00  1.000000e+00  1.000000e+00  1.000000e+00   \n",
       "min    ... -2.750717e+01 -4.444611e+01 -3.980328e+01 -2.941915e+01   \n",
       "25%    ... -3.731815e-01 -2.362189e-01 -3.149612e-01 -3.864100e-01   \n",
       "50%    ...  2.725647e-02  1.599970e-02  1.562848e-03  1.482672e-02   \n",
       "75%    ...  4.044995e-01  2.789198e-01  3.120327e-01  4.290755e-01   \n",
       "max    ...  3.445290e+00  2.209901e+00  7.289592e+00  3.902922e+00   \n",
       "\n",
       "              CIPLA        COLPAL           DLF    TORNTPHARM          PGHH  \\\n",
       "count  2.480000e+03  2.480000e+03  2.480000e+03  2.480000e+03  2.480000e+03   \n",
       "mean   5.730183e-18  1.289291e-17  5.730183e-18  7.162729e-19  2.148819e-17   \n",
       "std    1.000000e+00  1.000000e+00  1.000000e+00  1.000000e+00  1.000000e+00   \n",
       "min   -5.948028e+00 -3.594844e+01 -1.128867e+01 -3.076423e+01 -4.067972e+00   \n",
       "25%   -5.605771e-01 -3.889082e-01 -5.291515e-01 -4.446788e-01 -5.393627e-01   \n",
       "50%   -4.224574e-02 -2.077953e-02  2.943893e-02 -1.281485e-02 -5.844106e-02   \n",
       "75%    5.394728e-01  3.576284e-01  5.679899e-01  4.223645e-01  4.328334e-01   \n",
       "max    4.713694e+00  4.235683e+00  5.673832e+00  4.254354e+00  9.690503e+00   \n",
       "\n",
       "             BIOCON  \n",
       "count  2.480000e+03  \n",
       "mean  -2.865092e-18  \n",
       "std    1.000000e+00  \n",
       "min   -3.275481e+01  \n",
       "25%   -3.037230e-01  \n",
       "50%   -6.101362e-04  \n",
       "75%    3.167189e-01  \n",
       "max    4.371055e+00  \n",
       "\n",
       "[8 rows x 52 columns]"
      ]
     },
     "execution_count": 11,
     "metadata": {},
     "output_type": "execute_result"
    }
   ],
   "source": [
    "nprice.describe()"
   ]
  },
  {
   "cell_type": "code",
   "execution_count": 12,
   "metadata": {},
   "outputs": [],
   "source": [
    "# correlation matrix\n",
    "C = nprice.corr()"
   ]
  },
  {
   "cell_type": "code",
   "execution_count": 13,
   "metadata": {},
   "outputs": [
    {
     "data": {
      "text/plain": [
       "<seaborn.axisgrid.FacetGrid at 0x7f90355e9668>"
      ]
     },
     "execution_count": 13,
     "metadata": {},
     "output_type": "execute_result"
    },
    {
     "data": {
      "image/png": "[encoded data removed]",
      "text/plain": [
       "<Figure size 360x360 with 1 Axes>"
      ]
     },
     "metadata": {},
     "output_type": "display_data"
    }
   ],
   "source": [
    "import seaborn as sns\n",
    "sns.displot(np.mean(C), kind=\"kde\")"
   ]
  },
  {
   "cell_type": "code",
   "execution_count": 14,
   "metadata": {},
   "outputs": [],
   "source": [
    "# eigenvalues and eigenvectors calculation for elements in correlation matrix\n",
    "eigvals, eigvecs = la.eig(C.to_numpy())\n",
    "eigvals = eigvals.real"
   ]
  },
  {
   "cell_type": "code",
   "execution_count": 15,
   "metadata": {},
   "outputs": [
    {
     "data": {
      "text/plain": [
       "<seaborn.axisgrid.FacetGrid at 0x7f902a108748>"
      ]
     },
     "execution_count": 15,
     "metadata": {},
     "output_type": "execute_result"
    },
    {
     "data": {
      "image/png": "[encoded data removed]",
      "text/plain": [
       "<Figure size 360x360 with 1 Axes>"
      ]
     },
     "metadata": {},
     "output_type": "display_data"
    }
   ],
   "source": [
    "import seaborn as sns\n",
    "sns.displot(eigvals, kind=\"kde\")"
   ]
  },
  {
   "cell_type": "code",
   "execution_count": 16,
   "metadata": {},
   "outputs": [],
   "source": [
    "columns = [f'column_{num}' for num in range(nprice.shape[1])]\n",
    "index = [f'index_{num}' for num in range(nprice.shape[0])]\n",
    "A = pd.DataFrame(np.random.normal(loc = 0, scale = 1, size = nprice.shape), columns = columns, index = index)"
   ]
  },
  {
   "cell_type": "code",
   "execution_count": 17,
   "metadata": {},
   "outputs": [],
   "source": [
    "# N x N random matrix whose elements are all uncorrelated\n",
    "R = A.corr()"
   ]
  },
  {
   "cell_type": "code",
   "execution_count": 18,
   "metadata": {},
   "outputs": [
    {
     "data": {
      "text/plain": [
       "<seaborn.axisgrid.FacetGrid at 0x7f902a0877f0>"
      ]
     },
     "execution_count": 18,
     "metadata": {},
     "output_type": "execute_result"
    },
    {
     "data": {
      "image/png": "[encoded data removed]",
      "text/plain": [
       "<Figure size 360x360 with 1 Axes>"
      ]
     },
     "metadata": {},
     "output_type": "display_data"
    }
   ],
   "source": [
    "sns.displot(np.mean(R), kind=\"kde\")"
   ]
  },
  {
   "cell_type": "code",
   "execution_count": 19,
   "metadata": {},
   "outputs": [],
   "source": [
    "reigvals, reigvecs = la.eig(R.to_numpy())\n",
    "reigvals = reigvals.real"
   ]
  },
  {
   "cell_type": "code",
   "execution_count": 20,
   "metadata": {},
   "outputs": [
    {
     "data": {
      "text/plain": [
       "<seaborn.axisgrid.FacetGrid at 0x7f902a087748>"
      ]
     },
     "execution_count": 20,
     "metadata": {},
     "output_type": "execute_result"
    },
    {
     "data": {
      "image/png": "[encoded data removed]",
      "text/plain": [
       "<Figure size 360x360 with 1 Axes>"
      ]
     },
     "metadata": {},
     "output_type": "display_data"
    }
   ],
   "source": [
    "sns.displot(reigvals, kind=\"kde\")"
   ]
  },
  {
   "cell_type": "code",
   "execution_count": 21,
   "metadata": {},
   "outputs": [],
   "source": [
    "eigdata = pd.DataFrame()\n",
    "eigdata['eigvals'] = eigvals\n",
    "eigdata['reigvals'] = reigvals"
   ]
  },
  {
   "cell_type": "code",
   "execution_count": 22,
   "metadata": {},
   "outputs": [
    {
     "data": {
      "text/html": [
       "<div>\n",
       "<style scoped>\n",
       "    .dataframe tbody tr th:only-of-type {\n",
       "        vertical-align: middle;\n",
       "    }\n",
       "\n",
       "    .dataframe tbody tr th {\n",
       "        vertical-align: top;\n",
       "    }\n",
       "\n",
       "    .dataframe thead th {\n",
       "        text-align: right;\n",
       "    }\n",
       "</style>\n",
       "<table border=\"1\" class=\"dataframe\">\n",
       "  <thead>\n",
       "    <tr style=\"text-align: right;\">\n",
       "      <th></th>\n",
       "      <th>eigvals</th>\n",
       "      <th>reigvals</th>\n",
       "    </tr>\n",
       "  </thead>\n",
       "  <tbody>\n",
       "    <tr>\n",
       "      <th>0</th>\n",
       "      <td>6.841963</td>\n",
       "      <td>1.314460</td>\n",
       "    </tr>\n",
       "    <tr>\n",
       "      <th>1</th>\n",
       "      <td>1.983730</td>\n",
       "      <td>0.714974</td>\n",
       "    </tr>\n",
       "    <tr>\n",
       "      <th>2</th>\n",
       "      <td>1.798420</td>\n",
       "      <td>1.266285</td>\n",
       "    </tr>\n",
       "    <tr>\n",
       "      <th>3</th>\n",
       "      <td>1.524316</td>\n",
       "      <td>0.753403</td>\n",
       "    </tr>\n",
       "    <tr>\n",
       "      <th>4</th>\n",
       "      <td>0.331767</td>\n",
       "      <td>1.238009</td>\n",
       "    </tr>\n",
       "  </tbody>\n",
       "</table>\n",
       "</div>"
      ],
      "text/plain": [
       "    eigvals  reigvals\n",
       "0  6.841963  1.314460\n",
       "1  1.983730  0.714974\n",
       "2  1.798420  1.266285\n",
       "3  1.524316  0.753403\n",
       "4  0.331767  1.238009"
      ]
     },
     "execution_count": 22,
     "metadata": {},
     "output_type": "execute_result"
    }
   ],
   "source": [
    "eigdata.head()"
   ]
  },
  {
   "cell_type": "code",
   "execution_count": 24,
   "metadata": {},
   "outputs": [
    {
     "data": {
      "text/plain": [
       "<seaborn.axisgrid.FacetGrid at 0x7f9029fdbef0>"
      ]
     },
     "execution_count": 24,
     "metadata": {},
     "output_type": "execute_result"
    },
    {
     "data": {
      "image/png": "[encoded data removed]",
      "text/plain": [
       "<Figure size 430.375x360 with 1 Axes>"
      ]
     },
     "metadata": {},
     "output_type": "display_data"
    }
   ],
   "source": [
    "ax = sns.displot(eigdata, kind=\"kde\")\n",
    "ax.set(xlim=(None, 4))"
   ]
  },
  {
   "cell_type": "code",
   "execution_count": null,
   "metadata": {},
   "outputs": [],
   "source": []
  }
 ],
 "metadata": {
  "kernelspec": {
   "display_name": "Python 3",
   "language": "python",
   "name": "python3"
  },
  "language_info": {
   "codemirror_mode": {
    "name": "ipython",
    "version": 3
   },
   "file_extension": ".py",
   "mimetype": "text/x-python",
   "name": "python",
   "nbconvert_exporter": "python",
   "pygments_lexer": "ipython3",
   "version": "3.7.3"
  }
 },
 "nbformat": 4,
 "nbformat_minor": 4
}
