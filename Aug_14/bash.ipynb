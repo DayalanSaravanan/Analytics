{
 "cells": [
  {
   "cell_type": "code",
   "execution_count": 21,
   "metadata": {},
   "outputs": [
    {
     "name": "stdout",
     "output_type": "stream",
     "text": [
      "g62231tx\n"
     ]
    }
   ],
   "source": [
    "%%bash\n",
    "hostname"
   ]
  },
  {
   "cell_type": "code",
   "execution_count": 22,
   "metadata": {},
   "outputs": [
    {
     "name": "stdout",
     "output_type": "stream",
     "text": [
      "/home/saran/Analytics/Aug_14\n"
     ]
    }
   ],
   "source": [
    "%%bash\n",
    "pwd"
   ]
  },
  {
   "cell_type": "code",
   "execution_count": 23,
   "metadata": {},
   "outputs": [],
   "source": [
    "mkdir directory Directory"
   ]
  },
  {
   "cell_type": "code",
   "execution_count": 24,
   "metadata": {},
   "outputs": [
    {
     "name": "stdout",
     "output_type": "stream",
     "text": [
      "bash.ipynb\n",
      "directory\n",
      "Directory\n"
     ]
    }
   ],
   "source": [
    "%%bash\n",
    "ls"
   ]
  },
  {
   "cell_type": "code",
   "execution_count": 25,
   "metadata": {},
   "outputs": [
    {
     "name": "stdout",
     "output_type": "stream",
     "text": [
      "total 20\n",
      "-rw-r--r-- 1 saran saran 8996 Aug 14 21:25 bash.ipynb\n",
      "drwxr-xr-x 2 saran saran 4096 Aug 14 21:27 directory\n",
      "drwxr-xr-x 2 saran saran 4096 Aug 14 21:27 Directory\n"
     ]
    }
   ],
   "source": [
    "%%bash\n",
    "ls -l"
   ]
  },
  {
   "cell_type": "code",
   "execution_count": 11,
   "metadata": {
    "scrolled": false
   },
   "outputs": [
    {
     "name": "stdout",
     "output_type": "stream",
     "text": [
      "     1\t# ~/.bashrc: executed by bash(1) for non-login shells.\r\n",
      "     2\t# see /usr/share/doc/bash/examples/startup-files (in the package bash-doc)\r\n",
      "     3\t# for examples\r\n",
      "     4\t\r\n",
      "     5\t# If not running interactively, don't do anything\r\n",
      "     6\tcase $- in\r\n",
      "     7\t    *i*) ;;\r\n",
      "     8\t      *) return;;\r\n",
      "     9\tesac\r\n",
      "    10\t\r\n",
      "    11\t# don't put duplicate lines or lines starting with space in the history.\r\n",
      "    12\t# See bash(1) for more options\r\n",
      "    13\tHISTCONTROL=ignoreboth\r\n",
      "    14\t\r\n",
      "    15\t# append to the history file, don't overwrite it\r\n",
      "    16\tshopt -s histappend\r\n",
      "    17\t\r\n",
      "    18\t# for setting history length see HISTSIZE and HISTFILESIZE in bash(1)\r\n",
      "    19\tHISTSIZE=1000\r\n",
      "    20\tHISTFILESIZE=2000\r\n",
      "    21\t\r\n",
      "    22\t# check the window size after each command and, if necessary,\r\n",
      "    23\t# update the values of LINES and COLUMNS.\r\n",
      "    24\tshopt -s checkwinsize\r\n",
      "    25\t\r\n",
      "    26\t# If set, the pattern \"**\" used in a pathname expansion context will\r\n",
      "    27\t# match all files and zero or more directories and subdirectories.\r\n",
      "    28\t#shopt -s globstar\r\n",
      "    29\t\r\n",
      "    30\t# make less more friendly for non-text input files, see lesspipe(1)\r\n",
      "    31\t[ -x /usr/bin/lesspipe ] && eval \"$(SHELL=/bin/sh lesspipe)\"\r\n",
      "    32\t\r\n",
      "    33\t# set variable identifying the chroot you work in (used in the prompt below)\r\n",
      "    34\tif [ -z \"${debian_chroot:-}\" ] && [ -r /etc/debian_chroot ]; then\r\n",
      "    35\t    debian_chroot=$(cat /etc/debian_chroot)\r\n",
      "    36\tfi\r\n",
      "    37\t\r\n",
      "    38\t# set a fancy prompt (non-color, unless we know we \"want\" color)\r\n",
      "    39\tcase \"$TERM\" in\r\n",
      "    40\t    xterm-color|*-256color) color_prompt=yes;\r\n",
      "    41\tesac\r\n",
      "    42\t\r\n",
      "    43\t# uncomment for a colored prompt, if the terminal has the capability; turned\r\n",
      "    44\t# off by default to not distract the user: the focus in a terminal window\r\n",
      "    45\t# should be on the output of commands, not on the prompt\r\n",
      "    46\t#force_color_prompt=yes\r\n",
      "    47\t\r\n",
      "    48\tif [ -n \"$force_color_prompt\" ]; then\r\n",
      "    49\t    if [ -x /usr/bin/tput ] && tput setaf 1 >&/dev/null; then\r\n",
      "    50\t\t# We have color support; assume it's compliant with Ecma-48\r\n",
      "    51\t\t# (ISO/IEC-6429). (Lack of such support is extremely rare, and such\r\n",
      "    52\t\t# a case would tend to support setf rather than setaf.)\r\n",
      "    53\t\tcolor_prompt=yes\r\n",
      "    54\t    else\r\n",
      "    55\t\tcolor_prompt=\r\n",
      "    56\t    fi\r\n",
      "    57\tfi\r\n",
      "    58\t\r\n",
      "    59\tif [ \"$color_prompt\" = yes ]; then\r\n",
      "    60\t    #PS1='${debian_chroot:+($debian_chroot)}\\[\\033[01;32m\\]\\u@\\h\\[\\033[00m\\]:\\[\\033[01;34m\\]\\w\\[\\033[00m\\]\\$ '\r\n",
      "    61\t    PS1='${debian_chroot:+($debian_chroot)}\\h:\\w\\$ '\r\n",
      "    62\telse\r\n",
      "    63\t    #PS1='${debian_chroot:+($debian_chroot)}\\u@\\h:\\w\\$ '\r\n",
      "    64\t    PS1='${debian_chroot:+($debain_chroot)}\\h:\\w\\$ '\r\n",
      "    65\tfi\r\n",
      "    66\tunset color_prompt force_color_prompt\r\n",
      "    67\t\r\n",
      "    68\t# If this is an xterm set the title to user@host:dir\r\n",
      "    69\tcase \"$TERM\" in\r\n",
      "    70\txterm*|rxvt*)\r\n",
      "    71\t    #PS1=\"\\[\\e]0;${debian_chroot:+($debian_chroot)}\\u@\\h: \\w\\a\\]$PS1\"\r\n",
      "    72\t    PS1=\"\\[\\e]0;${debian_chroot:+($debian_chroot)}\\h: \\w\\a\\]$PS1\"\r\n",
      "    73\t    ;;\r\n",
      "    74\t*)\r\n",
      "    75\t    ;;\r\n",
      "    76\tesac\r\n",
      "    77\t\r\n",
      "    78\t# enable color support of ls and also add handy aliases\r\n",
      "    79\tif [ -x /usr/bin/dircolors ]; then\r\n",
      "    80\t    test -r ~/.dircolors && eval \"$(dircolors -b ~/.dircolors)\" || eval \"$(dircolors -b)\"\r\n",
      "    81\t    alias ls='ls -CF'\r\n",
      "    82\t    #alias dir='dir --color=auto'\r\n",
      "    83\t    #alias vdir='vdir --color=auto'\r\n",
      "    84\t    #alias grep='grep --color=auto'\r\n",
      "    85\t    #alias fgrep='fgrep --color=auto'\r\n",
      "    86\t    #alias egrep='egrep --color=auto'\r\n",
      "    87\tfi\r\n",
      "    88\t\r\n",
      "    89\t# colored GCC warnings and errors\r\n",
      "    90\t#export GCC_COLORS='error=01;31:warning=01;35:note=01;36:caret=01;32:locus=01:quote=01'\r\n",
      "    91\t\r\n",
      "    92\t# some more ls aliases\r\n",
      "    93\t#alias ll='ls -l'\r\n",
      "    94\t#alias la='ls -A'\r\n",
      "    95\t#alias l='ls -CF'\r\n",
      "    96\t\r\n",
      "    97\t# Alias definitions.\r\n",
      "    98\t# You may want to put all your additions into a separate file like\r\n",
      "    99\t# ~/.bash_aliases, instead of adding them here directly.\r\n",
      "   100\t# See /usr/share/doc/bash-doc/examples in the bash-doc package.\r\n",
      "   101\t\r\n",
      "   102\tif [ -f ~/.bash_aliases ]; then\r\n",
      "   103\t    . ~/.bash_aliases\r\n",
      "   104\tfi\r\n",
      "   105\t\r\n",
      "   106\t# enable programmable completion features (you don't need to enable\r\n",
      "   107\t# this, if it's already enabled in /etc/bash.bashrc and /etc/profile\r\n",
      "   108\t# sources /etc/bash.bashrc).\r\n",
      "   109\tif ! shopt -oq posix; then\r\n",
      "   110\t  if [ -f /usr/share/bash-completion/bash_completion ]; then\r\n",
      "   111\t    . /usr/share/bash-completion/bash_completion\r\n",
      "   112\t  elif [ -f /etc/bash_completion ]; then\r\n",
      "   113\t    . /etc/bash_completion\r\n",
      "   114\t  fi\r\n",
      "   115\tfi\r\n",
      "   116\t\r\n",
      "   117\t# shell function for finding factorial of the integer\r\n",
      "   118\tfact() { (echo 1; seq $1) | paste -s -d\\* | bc; }\r\n",
      "   119\t\r\n",
      "   120\t# screencast\r\n",
      "   121\talias scast='ffmpeg x11grab -r 30 -s 1920x1080 -i :0.0 -acodec aac -vcodec libx264 -crf 0 -preset medium output.mp4'\r\n"
     ]
    }
   ],
   "source": [
    "%%bash\n",
    "cat -n /home/saran/.bashrc"
   ]
  },
  {
   "cell_type": "code",
   "execution_count": 16,
   "metadata": {},
   "outputs": [
    {
     "name": "stdout",
     "output_type": "stream",
     "text": [
      "Fri Aug 14 21:20:30 IST 2020\n"
     ]
    }
   ],
   "source": [
    "%%bash\n",
    "date"
   ]
  },
  {
   "cell_type": "code",
   "execution_count": 17,
   "metadata": {},
   "outputs": [
    {
     "name": "stdout",
     "output_type": "stream",
     "text": [
      "0022\n"
     ]
    }
   ],
   "source": [
    "%%bash\n",
    "umask"
   ]
  },
  {
   "cell_type": "code",
   "execution_count": 26,
   "metadata": {},
   "outputs": [],
   "source": [
    "%%bash\n",
    "mkdir -m 700 Directory/Documents"
   ]
  },
  {
   "cell_type": "code",
   "execution_count": 27,
   "metadata": {},
   "outputs": [
    {
     "name": "stdout",
     "output_type": "stream",
     "text": [
      "total 4\n",
      "drwx------ 2 saran saran 4096 Aug 14 21:36 Documents\n"
     ]
    }
   ],
   "source": [
    "%%bash\n",
    "ls -l Directory/"
   ]
  }
 ],
 "metadata": {
  "kernelspec": {
   "display_name": "Python 3",
   "language": "python",
   "name": "python3"
  },
  "language_info": {
   "codemirror_mode": {
    "name": "ipython",
    "version": 3
   },
   "file_extension": ".py",
   "mimetype": "text/x-python",
   "name": "python",
   "nbconvert_exporter": "python",
   "pygments_lexer": "ipython3",
   "version": "3.7.3"
  }
 },
 "nbformat": 4,
 "nbformat_minor": 4
}
